{
  "cells": [
    {
      "cell_type": "markdown",
      "metadata": {
        "id": "I7qvoVyjmKAw"
      },
      "source": [
        "# Introduction, motivation, problem statement"
      ]
    },
    {
      "cell_type": "markdown",
      "metadata": {
        "id": "DJLQ34fDmPHa"
      },
      "source": [
        "Clearly define the problem statemend or purpose of the project\n"
      ]
    },
    {
      "cell_type": "markdown",
      "metadata": {
        "id": "tqLzmEOUmWuF"
      },
      "source": [
        "# Data sources or RL task"
      ]
    },
    {
      "cell_type": "markdown",
      "metadata": {
        "id": "Y0EAYb0xmvUA"
      },
      "source": [
        "Data sources or reinforcement learning tasks are clearly documented and described"
      ]
    },
    {
      "cell_type": "markdown",
      "metadata": {
        "id": "hBCKVwXembpB"
      },
      "source": [
        "# Exploratory Analysis of Data or RL tasks"
      ]
    },
    {
      "cell_type": "markdown",
      "metadata": {
        "id": "fkjhq50VmzTV"
      },
      "source": [
        "Proide details about the properties, number of classes, pre-processing, challenging aspects, etc of the data.\n",
        "\n",
        "Describe the environment."
      ]
    },
    {
      "cell_type": "markdown",
      "metadata": {
        "id": "bFjO9fE4mggx"
      },
      "source": [
        "# Models and/or method"
      ]
    },
    {
      "cell_type": "markdown",
      "metadata": {
        "id": "52vBO7jJm7EL"
      },
      "source": [
        "Models and methods are judiciously chosen and appropriately applied. If building on previous work, identify the source and clearly delineate which parts are your own work."
      ]
    },
    {
      "cell_type": "markdown",
      "metadata": {
        "id": "tfsRQPvBnF_j"
      },
      "source": [
        "# Results"
      ]
    },
    {
      "cell_type": "markdown",
      "metadata": {
        "id": "m5YjplEOnxe_"
      },
      "source": [
        "# Baseline"
      ]
    },
    {
      "cell_type": "markdown",
      "metadata": {
        "id": "CnvDGT4ZfmSq"
      },
      "source": [
        "### Environment"
      ]
    },
    {
      "cell_type": "markdown",
      "metadata": {
        "id": "3J-rx_xNqJMx"
      },
      "source": [
        "### Agent (simple)"
      ]
    },
    {
      "cell_type": "markdown",
      "metadata": {
        "id": "zCLWIXhyhWQi"
      },
      "source": [
        "### Run the program\n",
        "\n"
      ]
    }
  ],
  "metadata": {
    "colab": {
      "history_visible": true,
      "provenance": [],
      "toc_visible": true
    },
    "kernelspec": {
      "display_name": "Python 3.10.8 64-bit",
      "language": "python",
      "name": "python3"
    },
    "language_info": {
      "name": "python",
      "version": "3.10.8"
    },
    "vscode": {
      "interpreter": {
        "hash": "aee8b7b246df8f9039afb4144a1f6fd8d2ca17a180786b69acc140d282b71a49"
      }
    }
  },
  "nbformat": 4,
  "nbformat_minor": 0
}
